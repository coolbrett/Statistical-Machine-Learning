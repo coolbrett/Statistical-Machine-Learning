{
 "cells": [
  {
   "cell_type": "code",
   "execution_count": 18,
   "metadata": {
    "collapsed": true
   },
   "outputs": [],
   "source": [
    "from sklearn.linear_model import LinearRegression\n",
    "from sklearn.preprocessing import PolynomialFeatures\n",
    "from sklearn.pipeline import make_pipeline\n",
    "import pandas as pd\n",
    "import matplotlib.pyplot as plt"
   ]
  },
  {
   "cell_type": "code",
   "execution_count": 19,
   "outputs": [],
   "source": [
    "def automated_polynomial_regression_plot(x, y, d, fname):\n",
    "    \"\"\"\n",
    "    Plots a polynomial regression based on degree passed in\n",
    "\n",
    "    x - a 1d array of input data\n",
    "\n",
    "    y - a 1d array of output data\n",
    "\n",
    "    d - an integer (the degree of the polynomial)\n",
    "\n",
    "    fname - a filename\n",
    "    \"\"\"\n",
    "    poly_fit = PolynomialFeatures(degree=d, include_bias=False)\n",
    "    quad_model = LinearRegression()\n",
    "    quad_reg = make_pipeline(poly_fit, quad_model)\n",
    "    quad_reg.fit(x.reshape(-1, 1), y)\n",
    "    plt.scatter(x, y)\n",
    "    plt.plot(x, quad_reg.predict(x.reshape(-1, 1)))\n",
    "    plt.xlabel(\"X\")\n",
    "    plt.ylabel(\"Y\")\n",
    "    plt.show()\n",
    "    plt.savefig(fname)\n",
    "\n",
    "    return None"
   ],
   "metadata": {
    "collapsed": false,
    "pycharm": {
     "name": "#%%\n"
    }
   }
  },
  {
   "cell_type": "code",
   "execution_count": 20,
   "outputs": [],
   "source": [
    "bolt_df = pd.read_csv(\"bolt_data.csv\")"
   ],
   "metadata": {
    "collapsed": false,
    "pycharm": {
     "name": "#%%\n"
    }
   }
  },
  {
   "cell_type": "code",
   "execution_count": 21,
   "outputs": [
    {
     "data": {
      "text/plain": "<Figure size 432x288 with 1 Axes>",
      "image/png": "[encoded data removed]"
     },
     "metadata": {
      "needs_background": "light"
     },
     "output_type": "display_data"
    },
    {
     "data": {
      "text/plain": "<Figure size 432x288 with 0 Axes>"
     },
     "metadata": {},
     "output_type": "display_data"
    }
   ],
   "source": [
    "automated_polynomial_regression_plot(bolt_df[\"position\"].values, bolt_df[\"time\"].values, 3, \"plot_returned\")"
   ],
   "metadata": {
    "collapsed": false,
    "pycharm": {
     "name": "#%%\n"
    }
   }
  }
 ],
 "metadata": {
  "kernelspec": {
   "display_name": "Python 3",
   "language": "python",
   "name": "python3"
  },
  "language_info": {
   "codemirror_mode": {
    "name": "ipython",
    "version": 2
   },
   "file_extension": ".py",
   "mimetype": "text/x-python",
   "name": "python",
   "nbconvert_exporter": "python",
   "pygments_lexer": "ipython2",
   "version": "2.7.6"
  }
 },
 "nbformat": 4,
 "nbformat_minor": 0
}